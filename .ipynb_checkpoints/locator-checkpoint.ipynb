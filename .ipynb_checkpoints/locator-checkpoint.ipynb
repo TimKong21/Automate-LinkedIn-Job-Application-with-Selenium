{
 "cells": [
  {
   "cell_type": "markdown",
   "id": "7c31d2b9",
   "metadata": {},
   "source": [
    "# Locator"
   ]
  },
  {
   "cell_type": "code",
   "execution_count": 1,
   "id": "65a5acfd",
   "metadata": {},
   "outputs": [],
   "source": [
    "from selenium.webdriver.common.by import By"
   ]
  },
  {
   "cell_type": "code",
   "execution_count": 3,
   "id": "03c262d5",
   "metadata": {},
   "outputs": [],
   "source": [
    "class ApplicationPageLocator(object):\n",
    "    SIGN_IN_USERNAME = (By.CLASS_NAME, 'input__input')\n",
    "    SIGN_IN_PASSWORD = (By.CLASS_NAME, 'input__input')\n",
    "    SIGN_IN_BUTTON = (By.CLASS_NAME,'sign-in-form__submit-button')"
   ]
  },
  {
   "cell_type": "code",
   "execution_count": 4,
   "id": "8211feac",
   "metadata": {},
   "outputs": [],
   "source": [
    "class ApplicationFormLocator(object):\n",
    "    JOB_APPLY_HEADER = (By.ID, 'jobs-apply-header')\n",
    "    JOB_APPLY_BUTTON = [(By.CLASS_NAME, 'jobs-apply-button--top-card') , (By.TAG_NAME, 'button')]\n",
    "    DROPDOWN_SELECT = (By.CLASS_NAME, 'fb-dropdown__select')\n",
    "    PHONE_NUM = [(By.CLASS_NAME, 'fb-single-line-text'), (By.TAG_NAME, 'input')]\n",
    "    CROSS_BUTTON = (By.XPATH, '//button[@aria-label=\"Remove uploaded document\"]')\n",
    "    ATTACHMENT_UPLOAD = (By.XPATH, '//input[@name=\"file\"]')\n",
    "    ATTACHMENT_NAME = (By.XPATH, '//h3[@class=\"ui-attachment__filename jobs-document-upload__attachment-filename\"]')\n",
    "    SUBMIT_BUTTON = (By.XPATH, '//button[@aria-label=\"Submit application\"]')"
   ]
  }
 ],
 "metadata": {
  "kernelspec": {
   "display_name": "Python 3",
   "language": "python",
   "name": "python3"
  },
  "language_info": {
   "codemirror_mode": {
    "name": "ipython",
    "version": 3
   },
   "file_extension": ".py",
   "mimetype": "text/x-python",
   "name": "python",
   "nbconvert_exporter": "python",
   "pygments_lexer": "ipython3",
   "version": "3.7.10"
  }
 },
 "nbformat": 4,
 "nbformat_minor": 5
}
