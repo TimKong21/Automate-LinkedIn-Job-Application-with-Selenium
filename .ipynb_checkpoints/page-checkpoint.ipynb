{
 "cells": [
  {
   "cell_type": "markdown",
   "id": "e173f56d",
   "metadata": {},
   "source": [
    "# Page"
   ]
  },
  {
   "cell_type": "code",
   "execution_count": 20,
   "id": "259283ec",
   "metadata": {},
   "outputs": [
    {
     "name": "stdout",
     "output_type": "stream",
     "text": [
      "importing Jupyter notebook from locator.ipynb\n"
     ]
    }
   ],
   "source": [
    "import import_ipynb\n",
    "import locator #import locator.ipnb\n",
    "import importlib\n",
    "importlib.reload(locator)\n",
    "from locator import ApplicationPageLocator\n",
    "from locator import ApplicationFormLocator\n",
    "\n",
    "import time \n",
    "from selenium.webdriver.support.ui import WebDriverWait\n",
    "from selenium.webdriver.support import expected_conditions as EC\n",
    "from selenium.webdriver.common.keys import Keys\n",
    "from selenium.webdriver.support.ui import Select"
   ]
  },
  {
   "cell_type": "code",
   "execution_count": 19,
   "id": "e6aa7198",
   "metadata": {},
   "outputs": [],
   "source": [
    "class BasePage(object):\n",
    "    def __init__(self, driver):\n",
    "        self.driver = driver #use driver that passed in as arg from main.ipynb\n",
    "        self.email = #email\n",
    "        self.password = #password\n",
    "        self.phone_code = #phone code\n",
    "        self.phone_num = #phone number \n",
    "        self.resume_path = #resume path\n",
    "\n",
    "class ApplicationPage(BasePage):\n",
    "    def login(self):\n",
    "        # login in with username and password \n",
    "        email = self.driver\\\n",
    "        .find_elements(*ApplicationPageLocator.SIGN_IN_USERNAME)[0]\n",
    "        email.send_keys(self.email)\n",
    "        \n",
    "        password = self.driver\\\n",
    "        .find_elements(*ApplicationPageLocator.SIGN_IN_PASSWORD)[1]\n",
    "        password.send_keys(self.password)\n",
    "        \n",
    "        login = self.driver.find_element(*ApplicationPageLocator.SIGN_IN_BUTTON).click()\n",
    "        return \"Feed | LinkedIn\" in self.driver.title #return Booolean \n",
    "    \n",
    "    def job_title_matches(self):\n",
    "        # navigate to application page \n",
    "        self.driver.get(\"https://www.linkedin.com/jobs/view/2795372500/?refId=ac47aad1-ea08-455d-b42d-897709e85792\")\n",
    "        return \"System Quality Assurance Engineer\" in self.driver.title\n",
    "    \n",
    "class ApplicationForm(BasePage):\n",
    "    def click_apply_button(self):\n",
    "        # apply button\n",
    "        apply_button = self.driver\\\n",
    "        .find_element(*ApplicationFormLocator.JOB_APPLY_BUTTON[0])\\\n",
    "        .find_element(*ApplicationFormLocator.JOB_APPLY_BUTTON[1])\n",
    "        apply_button.click()\n",
    "       \n",
    "        # header  \n",
    "        title = self.driver.find_element(*ApplicationFormLocator.JOB_APPLY_HEADER).text\n",
    "        return \"Apply to Wenco International Mining Systems\" in title\n",
    "    \n",
    "    def check_info(self):\n",
    "        # email\n",
    "        select = Select(self.driver.find_elements(*ApplicationFormLocator.DROPDOWN_SELECT)[0])\n",
    "        email = select.first_selected_option.text\n",
    "        \n",
    "        # phone code\n",
    "        select = Select(self.driver.find_elements(*ApplicationFormLocator.DROPDOWN_SELECT)[1])\n",
    "        phone_code = select.first_selected_option.text\n",
    "        \n",
    "        # phone number \n",
    "        phone_num = self.driver\\\n",
    "        .find_element(*ApplicationFormLocator.PHONE_NUM[0])\\\n",
    "        .find_element(*ApplicationFormLocator.PHONE_NUM[1]).text\n",
    "        return (self.email in email and phone_code in self.phone_code and phone_num in self.phone_num)\n",
    "    \n",
    "    def attach_resume(self):\n",
    "        # remove auto attached resume \n",
    "        cross_button = self.driver.find_element(*ApplicationFormLocator.CROSS_BUTTON).click()\n",
    "        \n",
    "        # upload resume\n",
    "        resume_upload = self.driver\\\n",
    "        .find_element(*ApplicationFormLocator.ATTACHMENT_UPLOAD)\\\n",
    "        .send_keys(self.resume_path)\n",
    "        \n",
    "        resume_name = self.driver.find_element(*ApplicationFormLocator.ATTACHMENT_NAME).text\n",
    "        \n",
    "        # submit\n",
    "        time.sleep(1.5)\n",
    "        submit_button = self.driver.find_element(*ApplicationFormLocator.SUBMIT_BUTTON).click()\n",
    "        return \"Tim_Kong_System_Quality_Assurance_Engineer.pdf\" in resume_name"
   ]
  },
  {
   "cell_type": "code",
   "execution_count": null,
   "id": "ac52b30b",
   "metadata": {},
   "outputs": [],
   "source": []
  }
 ],
 "metadata": {
  "kernelspec": {
   "display_name": "Python 3",
   "language": "python",
   "name": "python3"
  },
  "language_info": {
   "codemirror_mode": {
    "name": "ipython",
    "version": 3
   },
   "file_extension": ".py",
   "mimetype": "text/x-python",
   "name": "python",
   "nbconvert_exporter": "python",
   "pygments_lexer": "ipython3",
   "version": "3.7.10"
  }
 },
 "nbformat": 4,
 "nbformat_minor": 5
}
