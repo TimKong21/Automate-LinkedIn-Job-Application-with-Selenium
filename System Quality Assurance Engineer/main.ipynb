{
 "cells": [
  {
   "cell_type": "markdown",
   "id": "14a23756",
   "metadata": {},
   "source": [
    "# Main"
   ]
  },
  {
   "cell_type": "code",
   "execution_count": 1,
   "id": "2405db57",
   "metadata": {},
   "outputs": [
    {
     "name": "stdout",
     "output_type": "stream",
     "text": [
      "importing Jupyter notebook from page.ipynb\n",
      "importing Jupyter notebook from locator.ipynb\n",
      "importing Jupyter notebook from locator.ipynb\n",
      "importing Jupyter notebook from page.ipynb\n",
      "importing Jupyter notebook from locator.ipynb\n"
     ]
    }
   ],
   "source": [
    "import importlib\n",
    "import import_ipynb\n",
    "import page #import page.ipynb\n",
    "importlib.reload(page)\n",
    "\n",
    "import unittest\n",
    "from selenium import webdriver\n",
    "import time"
   ]
  },
  {
   "cell_type": "code",
   "execution_count": 2,
   "id": "aff8492a",
   "metadata": {},
   "outputs": [
    {
     "name": "stderr",
     "output_type": "stream",
     "text": [
      ".\n",
      "----------------------------------------------------------------------\n",
      "Ran 1 test in 20.972s\n",
      "\n",
      "OK\n"
     ]
    }
   ],
   "source": [
    "class JobApplication (unittest.TestCase):\n",
    "    def setUp(self):\n",
    "        self.driver = webdriver.Chrome(\"C:\\Program Files (x86)\\chromedriver.exe\")\n",
    "        self.driver.get(\"https://www.linkedin.com\")\n",
    "        \n",
    "    def test_application(self):\n",
    "        application_page = page.ApplicationPage(self.driver)\n",
    "        application_form = page.ApplicationForm(self.driver)\n",
    "        \n",
    "        # 1. test login \n",
    "        assert application_page.login() , \"login not success\"\n",
    "    \n",
    "        # 2. test application page \n",
    "        assert application_page.job_title_matches(), \"Job title does not match\"\n",
    "        \n",
    "        # 3. test application form\n",
    "        assert application_form.click_apply_button(), \"Application form not loaded\"\n",
    "        \n",
    "        #4. test application sections \n",
    "        assert application_form.check_info(), \"Personal information incorrect\"\n",
    "        \n",
    "        #5. test attachment and submit application\n",
    "        assert application_form.attach_resume(), \"Attacment not success\"\n",
    "        \n",
    "    def tearDown(self):\n",
    "        time.sleep(1) #have a glimpse before closing\n",
    "        self.driver.quit()\n",
    "        pass\n",
    "        \n",
    "if __name__ == \"__main__\":\n",
    "    # run all unittest we've defined\n",
    "    unittest.main(argv=['first-arg-is-ignored'], exit=False) \n",
    "        "
   ]
  }
 ],
 "metadata": {
  "kernelspec": {
   "display_name": "Python 3",
   "language": "python",
   "name": "python3"
  },
  "language_info": {
   "codemirror_mode": {
    "name": "ipython",
    "version": 3
   },
   "file_extension": ".py",
   "mimetype": "text/x-python",
   "name": "python",
   "nbconvert_exporter": "python",
   "pygments_lexer": "ipython3",
   "version": "3.7.10"
  }
 },
 "nbformat": 4,
 "nbformat_minor": 5
}
